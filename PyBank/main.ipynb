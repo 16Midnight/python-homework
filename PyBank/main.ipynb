{
 "cells": [
  {
   "cell_type": "code",
   "execution_count": 21,
   "metadata": {},
   "outputs": [],
   "source": [
    "#get ready to import the data in csv  format"
   ]
  },
  {
   "cell_type": "code",
   "execution_count": 22,
   "metadata": {},
   "outputs": [],
   "source": [
    "#Import CSV from pathlib library\n",
    "from pathlib import Path\n",
    "import csv"
   ]
  },
  {
   "cell_type": "code",
   "execution_count": 23,
   "metadata": {},
   "outputs": [],
   "source": [
    "csvpath = Path(\"/Users/elisakkal/Desktop/budget_data.csv\")"
   ]
  },
  {
   "cell_type": "code",
   "execution_count": 24,
   "metadata": {},
   "outputs": [],
   "source": [
    "#initializing list and create a variable mont_count, net_proffit, difference_sum, prev_value, date_min, date_max, \n",
    "#max_difference, min_difference.\n",
    "\n",
    "month_count = 0\n",
    "net_proffit = 0\n",
    "difference_sum = 0\n",
    "prev_value = 0\n",
    "date_min =\"\"\n",
    "date_max =\"\"\n",
    "max_difference = 0\n",
    "min_difference = 0"
   ]
  },
  {
   "cell_type": "code",
   "execution_count": 25,
   "metadata": {},
   "outputs": [
    {
     "name": "stdout",
     "output_type": "stream",
     "text": [
      "['Date', 'Profit/Losses']\n",
      "-2315.12\n",
      "86\n",
      "38382578\n",
      "Feb-2012 1926159\n",
      "Sep-2013 -2196167\n"
     ]
    }
   ],
   "source": [
    "#Open the file with the cvsreader\n",
    "with open(csvpath, \"r\") as csvfile:\n",
    "    csvreader =csv.reader(csvfile, delimiter=\",\")\n",
    "    csv_header = next(csvreader)\n",
    "    print(csv_header)\n",
    "## create a loop to calculate the total month\n",
    "    for row in csvreader:\n",
    "        month_count += 1\n",
    "# use condiitional to calculate the average the changes on P/L over the entire period as follow:\n",
    "#for each row: if  its the first row  skip it and go to the second row to perform a  substraction from the previous one\n",
    "# and save the the result in difference_sum \n",
    "        net_proffit += int(row[1]) \n",
    "\n",
    "        if month_count > 1:\n",
    "            difference = int(row[1]) - prev_value\n",
    "            difference_sum += difference\n",
    "#Add a conditional to calculate the min/max difference.            \n",
    "            if difference <= min_difference:\n",
    "                min_difference = difference\n",
    "                date_min = row[0]\n",
    "            if difference >= max_difference:\n",
    "                max_difference = difference\n",
    "                date_max = row[0]\n",
    "        prev_value = int(row[1])\n",
    "#calculate the average change        \n",
    "    average_change = difference_sum / (month_count-1)\n",
    "    print(round(average_change,2))\n",
    "    print(month_count)\n",
    "    print(net_proffit)\n",
    "    print(date_max, max_difference)\n",
    "    print(date_min, min_difference)\n",
    "    "
   ]
  },
  {
   "cell_type": "code",
   "execution_count": 26,
   "metadata": {},
   "outputs": [
    {
     "name": "stdout",
     "output_type": "stream",
     "text": [
      "\n",
      "    Financial Analisis\n",
      "    ------------------------------\n",
      "    Total month: 86\n",
      "    Total: 38382578\n",
      "    Average Change: -2315.1176470588234\n",
      "    Greatest Increase: Feb-2012 1926159\n",
      "    Greatest Decrease: Sep-2013 -2196167\n",
      "    \n"
     ]
    }
   ],
   "source": [
    "# create the ouput with formatted answer.   \n",
    "output = f'''\n",
    "    Financial Analisis\n",
    "    {'-'*30}\n",
    "    Total month: {month_count}\n",
    "    Total: {net_proffit}\n",
    "    Average Change: {average_change}\n",
    "    Greatest Increase: {date_max} {max_difference}\n",
    "    Greatest Decrease: {date_min} {min_difference}\n",
    "    '''\n",
    "print(output)\n",
    "        \n",
    "        \n",
    "        \n",
    "    \n",
    "        \n",
    "        \n",
    "            \n",
    "            \n",
    "            \n",
    "            \n",
    "            "
   ]
  },
  {
   "cell_type": "code",
   "execution_count": 27,
   "metadata": {},
   "outputs": [],
   "source": [
    "# Open the file with and wrote output as csv file \n",
    "with open (\"/Users/elisakkal/Desktop/pythonhw1.txt\", 'w')as csvfile:\n",
    "    csvfile.write(output)\n",
    "    \n",
    "    "
   ]
  },
  {
   "cell_type": "code",
   "execution_count": null,
   "metadata": {},
   "outputs": [],
   "source": []
  },
  {
   "cell_type": "code",
   "execution_count": null,
   "metadata": {},
   "outputs": [],
   "source": []
  },
  {
   "cell_type": "code",
   "execution_count": null,
   "metadata": {},
   "outputs": [],
   "source": []
  },
  {
   "cell_type": "code",
   "execution_count": null,
   "metadata": {},
   "outputs": [],
   "source": []
  }
 ],
 "metadata": {
  "kernelspec": {
   "display_name": "Python 3",
   "language": "python",
   "name": "python3"
  },
  "language_info": {
   "codemirror_mode": {
    "name": "ipython",
    "version": 3
   },
   "file_extension": ".py",
   "mimetype": "text/x-python",
   "name": "python",
   "nbconvert_exporter": "python",
   "pygments_lexer": "ipython3",
   "version": "3.8.3"
  }
 },
 "nbformat": 4,
 "nbformat_minor": 4
}
