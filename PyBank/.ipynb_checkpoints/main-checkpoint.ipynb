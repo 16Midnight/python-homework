{
 "cells": [
  {
   "cell_type": "code",
   "execution_count": 47,
   "metadata": {},
   "outputs": [],
   "source": [
    "#get ready to import the data in csv  format"
   ]
  },
  {
   "cell_type": "code",
   "execution_count": 56,
   "metadata": {},
   "outputs": [],
   "source": [
    "from pathlib import Path\n",
    "import csv"
   ]
  },
  {
   "cell_type": "code",
   "execution_count": 57,
   "metadata": {},
   "outputs": [],
   "source": [
    "csvpath = Path(\"/Users/elisakkal/Desktop/budget_data.csv\")"
   ]
  },
  {
   "cell_type": "code",
   "execution_count": 58,
   "metadata": {},
   "outputs": [],
   "source": [
    "#initializing list and create a variable net proffit\n",
    "month = []\n",
    "month_count = 0\n",
    "net_proffit = 0\n",
    "difference_sum = 0\n",
    "prev_value = 0\n",
    "date_min =\"\"\n",
    "date_max =\"\"\n",
    "max_difference = 0\n",
    "min_difference = 0"
   ]
  },
  {
   "cell_type": "code",
   "execution_count": 59,
   "metadata": {},
   "outputs": [],
   "source": [
    "with open(csvpath, \"r\") as csvfile:\n",
    "    csvreader =csv.reader(csvfile, delimiter=\",\")\n",
    "    csv_header = next(csvreader)\n",
    "    print(csv_header)\n",
    "    for row in csvreader:\n",
    "        month_count += 1\n",
    "#Sum all the values in the  proffit/losses  2 column\n",
    "        net_proffit += int(row[1]) \n",
    "#Average the changes on P/L over the entire period.\n",
    "#for each row: i its the first row  skip it if its the second row substract from the previous\n",
    "# and. save the difference in the list calculate_average.\n",
    "        if month_count > 1:\n",
    "            difference = int(row[1]) - prev_value\n",
    "            difference_sum += difference\n",
    "            if difference <= min_difference:\n",
    "                min_difference = difference\n",
    "                date_min = row[0]\n",
    "            if difference >= max_difference:\n",
    "                max_difference = difference\n",
    "                date_max = row[0]\n",
    "        prev_value = int(row[1])\n",
    "        \n",
    "    average_change = difference_sum / (month_count-1)\n",
    "    print(round(average_change,2))\n",
    "    print(month_count)\n",
    "    print(net_proffit)\n",
    "    print(date_max, max_difference)\n",
    "    print(date_min, min_difference)\n",
    "    "
   ]
  },
  {
   "cell_type": "code",
   "execution_count": 60,
   "metadata": {},
   "outputs": [
    {
     "name": "stdout",
     "output_type": "stream",
     "text": [
      "\n",
      "Financial Analisis\n",
      "------------------------------\n",
      "Total month: 86\n",
      "Total: 38382578\n",
      "Average Change: -2315.1176470588234\n",
      "Greatest Increase: Feb-2012 1926159\n",
      "Greatest Decrease: Sep-2013 -2196167\n",
      "\n"
     ]
    }
   ],
   "source": [
    "    output = f'''\n",
    "    Financial Analisis\n",
    "    {'-'*30}\n",
    "    Total month: {month_count}\n",
    "    Total: {net_proffit}\n",
    "    Average Change: {average_change}\n",
    "    Greatest Increase: {date_max} {max_difference}\n",
    "    Greatest Decrease: {date_min} {min_difference}\n",
    "    '''\n",
    "    print(output)\n",
    "        \n",
    "        \n",
    "        \n",
    "    \n",
    "        \n",
    "        \n",
    "            \n",
    "            \n",
    "            \n",
    "            \n",
    "            "
   ]
  },
  {
   "cell_type": "code",
   "execution_count": 61,
   "metadata": {},
   "outputs": [],
   "source": [
    "with open (\"/Users/elisakkal/Desktop/pythonhw1.txt\", 'w')as csvfile:\n",
    "    csvfile.write(output)\n",
    "    \n",
    "    "
   ]
  },
  {
   "cell_type": "code",
   "execution_count": null,
   "metadata": {},
   "outputs": [],
   "source": []
  },
  {
   "cell_type": "code",
   "execution_count": null,
   "metadata": {},
   "outputs": [],
   "source": []
  }
 ],
 "metadata": {
  "kernelspec": {
   "display_name": "Python 3",
   "language": "python",
   "name": "python3"
  },
  "language_info": {
   "codemirror_mode": {
    "name": "ipython",
    "version": 3
   },
   "file_extension": ".py",
   "mimetype": "text/x-python",
   "name": "python",
   "nbconvert_exporter": "python",
   "pygments_lexer": "ipython3",
   "version": "3.8.3"
  }
 },
 "nbformat": 4,
 "nbformat_minor": 4
}
